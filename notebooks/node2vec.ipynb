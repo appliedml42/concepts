{
 "cells": [
  {
   "cell_type": "markdown",
   "id": "381d741b",
   "metadata": {},
   "source": [
    "# Node2Vec"
   ]
  },
  {
   "cell_type": "markdown",
   "id": "56fab09a",
   "metadata": {},
   "source": [
    "## Random Walk"
   ]
  },
  {
   "cell_type": "code",
   "execution_count": 1,
   "id": "cefd16e1",
   "metadata": {},
   "outputs": [
    {
     "name": "stdout",
     "output_type": "stream",
     "text": [
      "Random Walk1: [1, 5, 1, 5, 1, 2, 3, 2, 3, 4]\n"
     ]
    }
   ],
   "source": [
    "import random\n",
    "\n",
    "\n",
    "class Graph:\n",
    "    def __init__(self):\n",
    "        self.graph = {}\n",
    "\n",
    "    def add_edge(self, node1, node2):\n",
    "        if node1 not in self.graph:\n",
    "            self.graph[node1] = []\n",
    "        if node2 not in self.graph:\n",
    "            self.graph[node2] = []\n",
    "        self.graph[node1].append(node2)\n",
    "        self.graph[node2].append(node1)  # For undirected graph\n",
    "\n",
    "    def random_walk(self, start_node, walk_length):\n",
    "        walk = [start_node]\n",
    "        while len(walk) < walk_length:\n",
    "            current = walk[-1]\n",
    "            next_nodes = self.graph.get(current, [])\n",
    "            if not next_nodes:\n",
    "                break\n",
    "            next_node = random.choice(next_nodes)\n",
    "            walk.append(next_node)\n",
    "        return walk\n",
    "\n",
    "\n",
    "# Example Usage\n",
    "G = Graph()\n",
    "edges = [(1, 2), (2, 3), (3, 4), (4, 5), (1, 5)]  # Example edges\n",
    "for edge in edges:\n",
    "    G.add_edge(*edge)\n",
    "\n",
    "walk = G.random_walk(start_node=1, walk_length=10)\n",
    "print(\"Random Walk:\", walk)"
   ]
  },
  {
   "cell_type": "code",
   "execution_count": null,
   "id": "7e6ffa2a",
   "metadata": {},
   "outputs": [],
   "source": []
  }
 ],
 "metadata": {
  "kernelspec": {
   "display_name": "Python 3 (ipykernel)",
   "language": "python",
   "name": "python3"
  },
  "language_info": {
   "codemirror_mode": {
    "name": "ipython",
    "version": 3
   },
   "file_extension": ".py",
   "mimetype": "text/x-python",
   "name": "python",
   "nbconvert_exporter": "python",
   "pygments_lexer": "ipython3",
   "version": "3.10.12"
  }
 },
 "nbformat": 4,
 "nbformat_minor": 5
}
