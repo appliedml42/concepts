{
 "cells": [
  {
   "cell_type": "markdown",
   "id": "ddab90bd-89d6-46c6-8e9a-acdc1086c6ab",
   "metadata": {},
   "source": [
    "# Cosine Similarity"
   ]
  },
  {
   "cell_type": "code",
   "execution_count": 34,
   "id": "af04b370-7320-4cea-8a32-64410c518926",
   "metadata": {},
   "outputs": [],
   "source": [
    "import numpy as np\n",
    "import torch\n",
    "import torch.nn.functional as F"
   ]
  },
  {
   "cell_type": "code",
   "execution_count": 74,
   "id": "dda86c91-d731-4145-bdc7-bfb18df44048",
   "metadata": {},
   "outputs": [],
   "source": [
    "n_docs = 128\n",
    "n_embed = 32\n",
    "dtype = torch.float16\n",
    "device = torch.device(\"mps\" if torch.backends.mps.is_available() else \"cpu\")\n",
    "\n",
    "np.random.rand(n_docs, n_embed)\n",
    "corpus = torch.tensor(np.random.rand(n_docs, n_embed), dtype=dtype, device=device)\n",
    "query = torch.tensor(np.random.rand(n_embed), dtype=dtype, device=device)"
   ]
  },
  {
   "cell_type": "markdown",
   "id": "3176e375-87da-4eed-a62a-63bb579f3b96",
   "metadata": {},
   "source": [
    "## LL25"
   ]
  },
  {
   "cell_type": "code",
   "execution_count": 94,
   "id": "2762fb37-976a-416e-aaae-e5cf83cfdaf2",
   "metadata": {},
   "outputs": [
    {
     "data": {
      "text/plain": [
       "True"
      ]
     },
     "execution_count": 94,
     "metadata": {},
     "output_type": "execute_result"
    }
   ],
   "source": [
    "def batched_cosine_similarity(query, corpus, eps=1e-6):\n",
    "    dot_product = (query * corpus).sum(dim=1)\n",
    "\n",
    "    norm_query = torch.sqrt((query ** 2).sum(dim=1) + eps)\n",
    "    norm_corpus = torch.sqrt((corpus ** 2).sum(dim=1) + eps)\n",
    "\n",
    "    return dot_product / (norm_query * norm_corpus)\n",
    "\n",
    "\n",
    "sim_manual = batched_cosine_similarity(query.unsqueeze(0), corpus)\n",
    "sim_builtin = F.cosine_similarity(query.unsqueeze(0), corpus, eps=1e-6)\n",
    "torch.allclose(sim_manual, sim_builtin, atol=1e-3)"
   ]
  },
  {
   "cell_type": "markdown",
   "id": "0892517e-aad2-4056-ae13-ec4149e02f08",
   "metadata": {},
   "source": [
    "## LL3"
   ]
  },
  {
   "cell_type": "code",
   "execution_count": 97,
   "id": "774bbceb-cd42-4d25-9352-76878f93396c",
   "metadata": {},
   "outputs": [
    {
     "data": {
      "text/plain": [
       "True"
      ]
     },
     "execution_count": 97,
     "metadata": {},
     "output_type": "execute_result"
    }
   ],
   "source": [
    "def batched_cosine_similarity_LL3(query, corpus, eps):\n",
    "    dot_product = (query * corpus).sum(dim=1)\n",
    "    query_norm = torch.sqrt((query ** 2).sum(dim=1) + eps)\n",
    "    corpus_norm = torch.sqrt((corpus ** 2).sum(dim=1) + eps)\n",
    "\n",
    "    return dot_product / (query_norm * corpus_norm)\n",
    "\n",
    "\n",
    "sim_manual = batched_cosine_similarity_LL3(query.unsqueeze(0), corpus, eps=1e-3)\n",
    "sim_builtin = F.cosine_similarity(query.unsqueeze(0), corpus, eps=1e-3)\n",
    "torch.allclose(sim_manual, sim_builtin, atol=1e-3)"
   ]
  }
 ],
 "metadata": {
  "kernelspec": {
   "display_name": "Python 3 (ipykernel)",
   "language": "python",
   "name": "python3"
  },
  "language_info": {
   "codemirror_mode": {
    "name": "ipython",
    "version": 3
   },
   "file_extension": ".py",
   "mimetype": "text/x-python",
   "name": "python",
   "nbconvert_exporter": "python",
   "pygments_lexer": "ipython3",
   "version": "3.11.5"
  }
 },
 "nbformat": 4,
 "nbformat_minor": 5
}
