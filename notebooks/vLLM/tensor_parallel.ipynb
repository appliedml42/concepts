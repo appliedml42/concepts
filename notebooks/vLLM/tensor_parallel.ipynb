{
 "cells": [
  {
   "cell_type": "markdown",
   "id": "92c4850c-f34c-4be0-a849-90d948e3deff",
   "metadata": {},
   "source": [
    "# Tensor Parallelism Investigation\n",
    "https://github.com/vllm-project/vllm/issues/689"
   ]
  },
  {
   "cell_type": "code",
   "execution_count": 1,
   "id": "b4882197-b487-42ed-970b-39b22bac3dc7",
   "metadata": {},
   "outputs": [
    {
     "name": "stdout",
     "output_type": "stream",
     "text": [
      "INFO 11-23 12:36:51 llm_engine.py:72] Initializing an LLM engine with config: model='lmsys/vicuna-7b-v1.3', tokenizer='hf-internal-testing/llama-tokenizer', tokenizer_mode=auto, revision=None, tokenizer_revision=None, trust_remote_code=False, dtype=torch.float16, max_seq_len=2048, download_dir=None, load_format=auto, tensor_parallel_size=1, quantization=None, seed=0)\n",
      "INFO 11-23 12:36:58 llm_engine.py:207] # GPU blocks: 3504, # CPU blocks: 512\n"
     ]
    }
   ],
   "source": [
    "import time\n",
    "\n",
    "import torch\n",
    "import tqdm\n",
    "from vllm import LLM, SamplingParams\n",
    "\n",
    "WORLD_SIZE = 1\n",
    "BATCH_SIZE = 1\n",
    "llm = LLM(\n",
    "    model=\"lmsys/vicuna-7b-v1.3\",\n",
    "    tokenizer=\"hf-internal-testing/llama-tokenizer\",\n",
    "    tensor_parallel_size=WORLD_SIZE,\n",
    "    gpu_memory_utilization=0.85,\n",
    ")"
   ]
  },
  {
   "cell_type": "code",
   "execution_count": 2,
   "id": "e5a4f5ce-0eef-4087-9d97-6d549a6cc560",
   "metadata": {},
   "outputs": [
    {
     "name": "stdout",
     "output_type": "stream",
     "text": [
      "0.4500191819970496\n"
     ]
    }
   ],
   "source": [
    "                                                                                                                                                                                                                                                                                                                                                                           \n",
    "start = time.perf_counter()                                                                                                                                                                                                                                                                                                                                                \n",
    "                                                                                                                                                                                                                                                                                                                                                                           \n",
    "batch = torch.randint(32000, (BATCH_SIZE, 120))                                                                                                                                                                                                                                                                                                                            \n",
    "                                                                                                                                                                                                                                                                                                                                                                           \n",
    "out = llm.generate(                                                                                                                                                                                                                                                                                                                                                        \n",
    "          prompt_token_ids=[tokens.tolist() for tokens in batch],                                                                                                                                                                                                        \n",
    "          use_tqdm=False,                                                                                                                                                                                                      \n",
    "          sampling_params=SamplingParams(                                                                                                                                                                                                         \n",
    "              max_tokens=20,                                                                                                                                                                                                               \n",
    "              ignore_eos=True,                                                                                                                                                                                                                                                                                                                                                                                                                                                                                                                 \n",
    "          )                                                                                                                                                                                                                                                                                                                                                                \n",
    "  )                                                                                                                                                                                                                                                                                                                                                                        \n",
    "                                                                                                                                                                                                                                                                                                                                                                           \n",
    "print(time.perf_counter() - start)  "
   ]
  },
  {
   "cell_type": "raw",
   "id": "78a84e07-2f87-4bac-aaf1-f770a73380d6",
   "metadata": {},
   "source": [
    "1 GPU: 47.28260640997905\n",
    "2 GPU: 38.49804261501413\n",
    "4 GPU: 35.09966081101447"
   ]
  }
 ],
 "metadata": {
  "kernelspec": {
   "display_name": "Python 3 (ipykernel)",
   "language": "python",
   "name": "python3"
  },
  "language_info": {
   "codemirror_mode": {
    "name": "ipython",
    "version": 3
   },
   "file_extension": ".py",
   "mimetype": "text/x-python",
   "name": "python",
   "nbconvert_exporter": "python",
   "pygments_lexer": "ipython3",
   "version": "3.10.12"
  }
 },
 "nbformat": 4,
 "nbformat_minor": 5
}
