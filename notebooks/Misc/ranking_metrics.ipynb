{
 "cells": [
  {
   "cell_type": "markdown",
   "id": "986cf37a-2ff8-42b6-b6af-b926c1738319",
   "metadata": {},
   "source": [
    "# Ranking Metrics"
   ]
  },
  {
   "cell_type": "code",
   "execution_count": 18,
   "id": "7350fda0-b117-4574-bc88-b26ba7c382c3",
   "metadata": {},
   "outputs": [],
   "source": [
    "import numpy as np"
   ]
  },
  {
   "cell_type": "code",
   "execution_count": 10,
   "id": "44571e3e-6dad-4c33-bd5a-14544780ac92",
   "metadata": {},
   "outputs": [],
   "source": [
    "retrieved_docs1 = [1, 0, 0, 0, 0]\n",
    "retrieved_docs2 = [0, 1, 1, 0, 0]"
   ]
  },
  {
   "cell_type": "markdown",
   "id": "7d22a4a1-0953-4d66-913e-dbb108bfe0e0",
   "metadata": {},
   "source": [
    "## Average Precision@K"
   ]
  },
  {
   "cell_type": "code",
   "execution_count": 11,
   "id": "358a2000-8042-4d1f-bd66-9d6d0de6f85a",
   "metadata": {},
   "outputs": [
    {
     "name": "stdout",
     "output_type": "stream",
     "text": [
      "1.0\n"
     ]
    },
    {
     "data": {
      "text/plain": [
       "0.5833333333333333"
      ]
     },
     "execution_count": 11,
     "metadata": {},
     "output_type": "execute_result"
    }
   ],
   "source": [
    "def ap_at_k_l1(retrieved_docs, K):\n",
    "    relevant_documents = 0\n",
    "    precision_sum = 0\n",
    "    for i, doc in enumerate(retrieved_docs[:K]):\n",
    "        if doc == 1:\n",
    "            relevant_documents += 1\n",
    "            precision_at_i = relevant_documents / (i + 1)\n",
    "            precision_sum += precision_at_i\n",
    "\n",
    "    if relevant_documents == 0:\n",
    "        return 0\n",
    "\n",
    "    return precision_sum / relevant_documents\n",
    "\n",
    "\n",
    "print(ap_at_k_l1(retrieved_docs1, 5))\n",
    "(ap_at_k_l1(retrieved_docs2, 5))"
   ]
  },
  {
   "cell_type": "code",
   "execution_count": 15,
   "id": "e05d6997-188f-490e-a528-85f9d9ef8e9b",
   "metadata": {},
   "outputs": [
    {
     "name": "stdout",
     "output_type": "stream",
     "text": [
      "1.0\n",
      "0.5833333333333333\n"
     ]
    }
   ],
   "source": [
    "def ap_at_k_l3(retrieved_docs, k):\n",
    "    relevant_docs = 0\n",
    "    precision_sum = 0\n",
    "    for i, doc in enumerate(retrieved_docs):\n",
    "        if doc == 1:\n",
    "            relevant_docs += 1\n",
    "            precision_at_i = relevant_docs / (i + 1)\n",
    "            precision_sum += precision_at_i\n",
    "    if relevant_docs == 0:\n",
    "        return 0\n",
    "    return precision_sum / relevant_docs\n",
    "\n",
    "\n",
    "print(ap_at_k_l3(retrieved_docs1, 5))\n",
    "print(ap_at_k_l3(retrieved_docs2, 5))"
   ]
  },
  {
   "cell_type": "markdown",
   "id": "010686e2-a0e7-43df-8320-07222c407d0e",
   "metadata": {},
   "source": [
    "## Reciprocal Rank"
   ]
  },
  {
   "cell_type": "code",
   "execution_count": 16,
   "id": "a921bea4-afc8-4dde-9329-a764cf62d5b3",
   "metadata": {},
   "outputs": [
    {
     "name": "stdout",
     "output_type": "stream",
     "text": [
      "1.0\n",
      "0.5\n"
     ]
    }
   ],
   "source": [
    "def reciprocal_rank_l3(retrieved_docs):\n",
    "    for i, doc in enumerate(retrieved_docs):\n",
    "        if doc == 1:\n",
    "            return 1 / (i + 1)\n",
    "    return 0\n",
    "\n",
    "\n",
    "print(reciprocal_rank_l3(retrieved_docs1))\n",
    "print(reciprocal_rank_l3(retrieved_docs2))"
   ]
  },
  {
   "cell_type": "markdown",
   "id": "1a657b16-905c-4942-b789-7827fb1ca3d3",
   "metadata": {},
   "source": [
    "## DCG & NDCG"
   ]
  },
  {
   "cell_type": "code",
   "execution_count": 46,
   "id": "e9a3350a-4d73-40cd-b0f4-d0f0483921e7",
   "metadata": {},
   "outputs": [
    {
     "name": "stdout",
     "output_type": "stream",
     "text": [
      "12.779642067948915\n"
     ]
    }
   ],
   "source": [
    "def dcg_at_k_l1(scores, k):\n",
    "    dcg = sum(\n",
    "        (2 ** rel - 1) / np.log2(idx + 1 + 1) for idx, rel in enumerate(scores[:k])\n",
    "    )\n",
    "    return dcg\n",
    "\n",
    "\n",
    "relevance_scores = [3, 2, 3, 0, 1, 2]\n",
    "k = 5\n",
    "print(dcg_at_k_l1(relevance_scores, k))"
   ]
  },
  {
   "cell_type": "code",
   "execution_count": 48,
   "id": "66289815-def3-4787-b848-b4e44e04d2c5",
   "metadata": {},
   "outputs": [
    {
     "name": "stdout",
     "output_type": "stream",
     "text": [
      "12.779642067948915\n"
     ]
    }
   ],
   "source": [
    "def dcg_at_k_l3(scores, k):\n",
    "    dcg = sum(\n",
    "        (2 ** rel - 1) / np.log2(idx + 1 + 1) for idx, rel in enumerate(scores[:k])\n",
    "    )\n",
    "    return dcg\n",
    "\n",
    "\n",
    "relevance_scores = [3, 2, 3, 0, 1, 2]\n",
    "ideal_scores = [3, 3, 3, 2, 2]\n",
    "k = 5\n",
    "print(dcg_at_k_l3(relevance_scores, k))"
   ]
  },
  {
   "cell_type": "code",
   "execution_count": null,
   "id": "8941b916-85a8-4ff1-ab94-5f7ffb9b9711",
   "metadata": {},
   "outputs": [],
   "source": []
  }
 ],
 "metadata": {
  "kernelspec": {
   "display_name": "Python 3 (ipykernel)",
   "language": "python",
   "name": "python3"
  },
  "language_info": {
   "codemirror_mode": {
    "name": "ipython",
    "version": 3
   },
   "file_extension": ".py",
   "mimetype": "text/x-python",
   "name": "python",
   "nbconvert_exporter": "python",
   "pygments_lexer": "ipython3",
   "version": "3.11.5"
  }
 },
 "nbformat": 4,
 "nbformat_minor": 5
}
