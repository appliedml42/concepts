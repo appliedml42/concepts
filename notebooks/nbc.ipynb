{
 "cells": [
  {
   "cell_type": "markdown",
   "id": "96ecdc41-228f-4e0a-9ebc-a70144ad90c8",
   "metadata": {},
   "source": [
    "# Naive Bayes Classifier"
   ]
  },
  {
   "cell_type": "code",
   "execution_count": 3,
   "id": "ef4e0fa8-4020-4277-9b4a-00f7ee8cc6a8",
   "metadata": {},
   "outputs": [],
   "source": [
    "import os\n",
    "\n",
    "os.environ[\"PYTORCH_ENABLE_MPS_FALLBACK\"] = \"1\"\n",
    "\n",
    "import numpy as np\n",
    "import torch"
   ]
  },
  {
   "cell_type": "code",
   "execution_count": 24,
   "id": "80bfd4e6-e4d5-4b0c-b853-ca89ebef6044",
   "metadata": {},
   "outputs": [],
   "source": [
    "device = torch.device(\"mps\" if torch.backends.mps.is_available() else \"cpu\")\n",
    "dtype = torch.float16\n",
    "\n",
    "n_samples = 1000\n",
    "n_features = 10\n",
    "n_classes = 5\n",
    "\n",
    "X_train = torch.tensor(\n",
    "    np.random.rand(n_samples, n_features), dtype=dtype, device=device\n",
    ")\n",
    "y_train = torch.randint(\n",
    "    low=0, high=n_classes, size=(n_samples,), device=device, dtype=dtype\n",
    ")\n",
    "\n",
    "X_test = torch.tensor(np.random.rand(10, n_features), dtype=dtype, device=device)"
   ]
  },
  {
   "cell_type": "code",
   "execution_count": 61,
   "id": "7e0ae08a-de2e-43ee-8155-5d57ca1c06b8",
   "metadata": {},
   "outputs": [
    {
     "data": {
      "text/plain": [
       "[tensor(3),\n",
       " tensor(1),\n",
       " tensor(2),\n",
       " tensor(1),\n",
       " tensor(2),\n",
       " tensor(0),\n",
       " tensor(1),\n",
       " tensor(0),\n",
       " tensor(3),\n",
       " tensor(1)]"
      ]
     },
     "execution_count": 61,
     "metadata": {},
     "output_type": "execute_result"
    }
   ],
   "source": [
    "class NaiveBayesClassifer_LL1:\n",
    "    def fit(self, X: torch.Tensor, y: torch.Tensor):\n",
    "        n_samples, n_features = X.size()\n",
    "        self.classes = torch.unique(y)\n",
    "        self.n_classes = self.classes.size(0)\n",
    "\n",
    "        self._mean = torch.zeros(\n",
    "            (self.n_classes, n_features), dtype=dtype, device=device\n",
    "        )\n",
    "        self._var = torch.zeros(\n",
    "            (self.n_classes, n_features), dtype=dtype, device=device\n",
    "        )\n",
    "        self._priors = torch.zeros(self.n_classes, dtype=dtype, device=device)\n",
    "\n",
    "        for idx, c in enumerate(self.classes):\n",
    "            X_c = X[y == c]\n",
    "            self._mean[idx, :] = torch.mean(X_c, dim=0)\n",
    "            self._var[idx, :] = torch.var(X_c, dim=0)\n",
    "            self._priors[idx] = X_c.size(0) / n_samples\n",
    "\n",
    "    def predict(self, X):\n",
    "        y_preds = []\n",
    "        for x in X:\n",
    "            logp = self.get_logp(x)\n",
    "            pred_c = torch.argmax(torch.tensor(logp))\n",
    "            y_preds.append(pred_c)\n",
    "        return y_preds\n",
    "\n",
    "    def get_logp(self, x):\n",
    "        posteriors = []\n",
    "        for idx, c in enumerate(self.classes):\n",
    "            prior = torch.log(self._priors[idx])\n",
    "            class_conditional = torch.sum(torch.log(self.pdf(idx, x)))\n",
    "            posteriors.append(prior + class_conditional)\n",
    "        return posteriors\n",
    "\n",
    "    def pdf(self, c: int, x: torch.Tensor):\n",
    "        mean = self._mean[c]\n",
    "        var = self._var[c]\n",
    "        numerator = torch.exp(-(x - mean) ** 2 / (2 * var))\n",
    "        denominator = torch.sqrt(2 * torch.pi * var)\n",
    "        return numerator / denominator\n",
    "\n",
    "\n",
    "classifier = NaiveBayesClassifer_LL1()\n",
    "classifier.fit(X, y)\n",
    "classifier.predict(X_test)"
   ]
  },
  {
   "cell_type": "code",
   "execution_count": 60,
   "id": "51f5eed6-01a6-41e0-85de-aa19336a9881",
   "metadata": {},
   "outputs": [
    {
     "data": {
      "text/plain": [
       "tensor([3, 1, 2, 1, 2, 0, 1, 0, 3, 1], device='mps:0')"
      ]
     },
     "execution_count": 60,
     "metadata": {},
     "output_type": "execute_result"
    }
   ],
   "source": [
    "class NBC_LL2:\n",
    "    def fit(self, X: torch.Tensor, y: torch.Tensor):\n",
    "        n_samples, n_features = X.size()\n",
    "        self.classes = torch.unique(y)\n",
    "        self.n_classes = self.classes.size(0)\n",
    "\n",
    "        self.mean = torch.zeros(\n",
    "            (self.n_classes, n_features), device=device, dtype=dtype\n",
    "        )\n",
    "        self.var = torch.zeros((self.n_classes, n_features), device=device, dtype=dtype)\n",
    "        self.priors = torch.zeros(self.n_classes, device=device, dtype=dtype)\n",
    "\n",
    "        for idx, c in enumerate(self.classes):\n",
    "            X_c = X[y == c]\n",
    "            self.mean[idx, :] = X_c.mean(dim=0)\n",
    "            self.var[idx, :] = X_c.var(dim=0)\n",
    "            self.priors[idx] = X_c.size(0) / X.size(0)\n",
    "\n",
    "    def logp(self, X: torch.Tensor):\n",
    "        X = X.unsqueeze(1)\n",
    "        log_ccp = -0.5 * torch.sum(\n",
    "            torch.log(2 * torch.pi * self.var) + (X - self.mean) ** 2 / self.var, dim=-1\n",
    "        )\n",
    "        log_prior = torch.log(self.priors)\n",
    "\n",
    "        log_posterior = log_ccp + log_prior\n",
    "\n",
    "        return log_posterior\n",
    "\n",
    "    def predict(self, X: torch.tensor):\n",
    "        logp = self.logp(X)\n",
    "        predictions = torch.argmax(logp, dim=1)\n",
    "        return predictions\n",
    "\n",
    "\n",
    "classifier = NBC_LL2()\n",
    "classifier.fit(X, y)\n",
    "classifier.predict(X_test)"
   ]
  },
  {
   "cell_type": "code",
   "execution_count": 94,
   "id": "83bd060b-6c8f-46e3-a09e-6837eb502252",
   "metadata": {},
   "outputs": [
    {
     "data": {
      "text/plain": [
       "tensor([3, 1, 2, 1, 2, 0, 1, 0, 3, 1], device='mps:0')"
      ]
     },
     "execution_count": 94,
     "metadata": {},
     "output_type": "execute_result"
    }
   ],
   "source": [
    "class NBC_LL29:\n",
    "    def fit(self, X, y):\n",
    "        n_samples, n_features = X.size()\n",
    "        self.classes = torch.unique(y)\n",
    "        self.n_classes = self.classes.size(0)\n",
    "        self.mean = torch.zeros(self.n_classes, n_features, dtype=dtype, device=device)\n",
    "        self.var = torch.zeros(self.n_classes, n_features, dtype=dtype, device=device)\n",
    "        self.priors = torch.zeros(self.n_classes, dtype=dtype, device=device)\n",
    "        for idx, c in enumerate(self.classes):\n",
    "            X_c = X[y == c]\n",
    "            self.mean[idx, :] = X_c.mean(dim=0)\n",
    "            self.var[idx, :] = X_c.var(dim=0)\n",
    "            self.priors[idx] = X_c.size(0) / X.size(0)\n",
    "\n",
    "    def logp(self, X):\n",
    "        X = X.unsqueeze(1)\n",
    "\n",
    "        log_ccp = -0.5 * (\n",
    "            torch.sum(\n",
    "                torch.log(2 * torch.pi * self.var) + ((X - self.mean) ** 2 / self.var),\n",
    "                dim=-1,\n",
    "            )\n",
    "        )\n",
    "        log_prior = torch.log(self.priors)\n",
    "\n",
    "        log_posterior = log_prior + log_ccp\n",
    "\n",
    "        return log_posterior\n",
    "\n",
    "    def predict(self, X):\n",
    "        logp = self.logp(X)\n",
    "        return torch.argmax(logp, dim=-1)\n",
    "\n",
    "\n",
    "classifier = NBC_LL29()\n",
    "classifier.fit(X, y)\n",
    "classifier.logp(X_test)\n",
    "classifier.predict(X_test)"
   ]
  },
  {
   "cell_type": "code",
   "execution_count": 104,
   "id": "a242beb8-a3f7-4715-95fa-0e30cd806bf5",
   "metadata": {},
   "outputs": [
    {
     "data": {
      "text/plain": [
       "tensor([3, 1, 2, 1, 2, 0, 1, 0, 3, 1], device='mps:0')"
      ]
     },
     "execution_count": 104,
     "metadata": {},
     "output_type": "execute_result"
    }
   ],
   "source": [
    "class NBC_LL295:\n",
    "    def fit(self, X, y):\n",
    "        n_samples, n_features = X.size()\n",
    "        self.classes = torch.unique(y)\n",
    "        self.n_classes = self.classes.size(0)\n",
    "\n",
    "        self.mean = torch.zeros(self.n_classes, n_features, dtype=dtype, device=device)\n",
    "        self.var = torch.zeros(self.n_classes, n_features, dtype=dtype, device=device)\n",
    "        self.priors = torch.zeros(self.n_classes, dtype=dtype, device=device)\n",
    "\n",
    "        for idx, c in enumerate(self.classes):\n",
    "            X_c = X[y == c]\n",
    "            self.mean[idx, :] = X_c.mean(dim=0)\n",
    "            self.var[idx, :] = X_c.var(dim=0)\n",
    "            self.priors[idx] = X_c.size(0) / X.size(0)\n",
    "\n",
    "    def logp(self, X):\n",
    "        X = X.unsqueeze(1)\n",
    "        log_ccp = -0.5 * (\n",
    "            torch.sum(\n",
    "                torch.log(2 * torch.pi * self.var) + ((X - self.mean) ** 2 / self.var),\n",
    "                dim=-1,\n",
    "            )\n",
    "        )\n",
    "\n",
    "        log_prior = torch.log(self.priors)\n",
    "\n",
    "        return log_ccp + log_prior\n",
    "\n",
    "    def predict(self, X):\n",
    "        logp = self.logp(X)\n",
    "        return torch.argmax(logp, dim=-1)\n",
    "\n",
    "\n",
    "classifier = NBC_LL295()\n",
    "classifier.fit(X, y)\n",
    "classifier.logp(X_test)\n",
    "classifier.predict(X_test)"
   ]
  },
  {
   "cell_type": "code",
   "execution_count": 110,
   "id": "ef4fed4b-0d28-4f03-aeab-e39f5304cbdb",
   "metadata": {},
   "outputs": [
    {
     "data": {
      "text/plain": [
       "tensor([3, 1, 2, 1, 2, 0, 1, 0, 3, 1], device='mps:0')"
      ]
     },
     "execution_count": 110,
     "metadata": {},
     "output_type": "execute_result"
    }
   ],
   "source": [
    "class NBC_LL3:\n",
    "    def fit(self, X, y):\n",
    "        n_samples, n_features = X.size()\n",
    "        self.classes = torch.unique(y)\n",
    "        self.n_classes = self.classes.size(0)\n",
    "\n",
    "        self.mean = torch.zeros(self.n_classes, n_features, dtype=dtype, device=device)\n",
    "        self.var = torch.zeros(self.n_classes, n_features, dtype=dtype, device=device)\n",
    "        self.priors = torch.zeros(self.n_classes, dtype=dtype, device=device)\n",
    "        for idx, c in enumerate(self.classes):\n",
    "            X_c = X[y == c]\n",
    "            self.mean[idx, :] = X_c.mean(dim=0)\n",
    "            self.var[idx, :] = X_c.var(dim=0)\n",
    "            self.priors[idx] = X_c.size(0) / X.size(0)\n",
    "\n",
    "    def logp(self, X):\n",
    "        X = X.unsqueeze(1)\n",
    "        log_ccp = -0.5 * (\n",
    "            torch.sum(\n",
    "                torch.log(2 * torch.pi * self.var) + (X - self.mean) ** 2 / self.var,\n",
    "                dim=-1,\n",
    "            )\n",
    "        )\n",
    "        log_prior = torch.log(self.priors)\n",
    "        return log_prior + log_ccp\n",
    "        \n",
    "    def predict(self, X):\n",
    "        logp = self.logp(X)\n",
    "        return torch.argmax(logp, dim=-1)\n",
    "\n",
    "classifier = NBC_LL3()\n",
    "classifier.fit(X, y)\n",
    "classifier.logp(X_test)\n",
    "classifier.predict(X_test)"
   ]
  }
 ],
 "metadata": {
  "kernelspec": {
   "display_name": "Python 3 (ipykernel)",
   "language": "python",
   "name": "python3"
  },
  "language_info": {
   "codemirror_mode": {
    "name": "ipython",
    "version": 3
   },
   "file_extension": ".py",
   "mimetype": "text/x-python",
   "name": "python",
   "nbconvert_exporter": "python",
   "pygments_lexer": "ipython3",
   "version": "3.11.5"
  }
 },
 "nbformat": 4,
 "nbformat_minor": 5
}
