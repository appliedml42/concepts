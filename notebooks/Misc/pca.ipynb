{
 "cells": [
  {
   "cell_type": "markdown",
   "id": "0ecb0bc8-c853-4e25-8d90-51798189167b",
   "metadata": {},
   "source": [
    "# Principle Component Analysis"
   ]
  },
  {
   "cell_type": "code",
   "execution_count": 13,
   "id": "ac0469a3-0392-4134-874c-a7eee20bd3b4",
   "metadata": {},
   "outputs": [],
   "source": [
    "import os\n",
    "\n",
    "os.environ[\"PYTORCH_ENABLE_MPS_FALLBACK\"] = \"1\"\n",
    "\n",
    "import numpy as np\n",
    "import torch"
   ]
  },
  {
   "cell_type": "code",
   "execution_count": 46,
   "id": "b8304804-52c2-49f1-9137-88ca64395254",
   "metadata": {},
   "outputs": [],
   "source": [
    "device = torch.device(\"mps\" if torch.backends.mps.is_available() else \"cpu\")\n",
    "dtype = torch.float32\n",
    "\n",
    "n_samples = 100\n",
    "n_features = 50\n",
    "\n",
    "data = torch.tensor(np.random.rand(100, 50), dtype=dtype, device=device)"
   ]
  },
  {
   "cell_type": "markdown",
   "id": "f81f6271-4476-4b80-95ef-bd494e31c2fe",
   "metadata": {},
   "source": [
    "## LL1 "
   ]
  },
  {
   "cell_type": "code",
   "execution_count": 57,
   "id": "f017a672-78a6-46cd-b765-0409f321f08f",
   "metadata": {},
   "outputs": [
    {
     "data": {
      "text/plain": [
       "torch.Size([100, 2])"
      ]
     },
     "execution_count": 57,
     "metadata": {},
     "output_type": "execute_result"
    }
   ],
   "source": [
    "def pca_ll1(data: torch.Tensor, n_components: int) -> torch.Tensor:\n",
    "    mean = torch.mean(data, 0)\n",
    "    std_dev = torch.std(data, 0)\n",
    "    data = (data - mean) / std_dev\n",
    "    \n",
    "    # Compute the covariance matrix\n",
    "    covariance_matrix = (data.transpose(0, 1) @ data) / (data.size(0) - 1)\n",
    "\n",
    "    # Eigen Decomposition\n",
    "    eigen_values, eigen_vectors = torch.linalg.eig(covariance_matrix)\n",
    "    eigen_values, eigen_vectors = eigen_values.real, eigen_vectors.real\n",
    "\n",
    "    # sort eigenvalues and corresponding eigenvectors\n",
    "    eigen_values, eigen_vectors = zip(\n",
    "        *sorted(zip(eigen_values, eigen_vectors), key=lambda x: x[0], reverse=True)\n",
    "    )\n",
    "\n",
    "    # Create transformation matrix\n",
    "    eigen_vectors = torch.stack(eigen_vectors[:n_components])\n",
    "    \n",
    "    return data @ eigen_vectors.T\n",
    "\n",
    "\n",
    "res = pca_ll1(data, n_components=2)\n",
    "res.size()"
   ]
  }
 ],
 "metadata": {
  "kernelspec": {
   "display_name": "Python 3 (ipykernel)",
   "language": "python",
   "name": "python3"
  },
  "language_info": {
   "codemirror_mode": {
    "name": "ipython",
    "version": 3
   },
   "file_extension": ".py",
   "mimetype": "text/x-python",
   "name": "python",
   "nbconvert_exporter": "python",
   "pygments_lexer": "ipython3",
   "version": "3.11.5"
  }
 },
 "nbformat": 4,
 "nbformat_minor": 5
}
